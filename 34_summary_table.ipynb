{
  "cells": [
    {
      "cell_type": "raw",
      "metadata": {},
      "source": [
        "---\n",
        "title: \"Data Table Cell\"\n",
        "---"
      ],
      "id": "df9fe217"
    },
    {
      "cell_type": "markdown",
      "metadata": {},
      "source": [
        "```{ojs}\n",
        "import {datTbl} from \"@novotny1akub/ojstbl\"\n",
        "\n",
        "datTbl\n",
        "\n",
        "```\n",
        "\n",
        "```{js}\n",
        "\n",
        "import {Runtime, Inspector} from \"https://cdn.jsdelivr.net/npm/@observablehq/runtime@4/dist/runtime.js\";\n",
        "import notebook from \"https://api.observablehq.com/@jashkenas/tick.js?v=3\";\n",
        "\n",
        "// Select the element into which we’ll show the observed value.\n",
        "const display = document.querySelector(\"#tick\");\n",
        "\n",
        "// Load the notebook, observing the “tick” cell with a custom Inspector that\n",
        "// renders any fulfilled value into the previously-selected element.\n",
        "const runtime = new Runtime();\n",
        "const main = runtime.module(notebook, name => {\n",
        "  if (name === \"tick\") {\n",
        "    return {\n",
        "      fulfilled(value) {\n",
        "        display.textContent = value;\n",
        "      },\n",
        "      rejected(error) { // optional, if you want to handle errors\n",
        "        display.textContent = error;\n",
        "      }\n",
        "    };\n",
        "  }\n",
        "});\n",
        "\n",
        "```"
      ],
      "id": "490a6a5e"
    }
  ],
  "metadata": {
    "kernelspec": {
      "display_name": "Python 3",
      "language": "python",
      "name": "python3"
    }
  },
  "nbformat": 4,
  "nbformat_minor": 5
}